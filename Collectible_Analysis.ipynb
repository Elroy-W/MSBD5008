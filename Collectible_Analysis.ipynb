{
 "cells": [
  {
   "cell_type": "code",
   "execution_count": 1,
   "metadata": {
    "collapsed": true
   },
   "outputs": [],
   "source": [
    "import networkx as nx\n",
    "import matplotlib.pyplot as plt\n",
    "from collections import Counter\n",
    "import csv\n",
    "import sys\n",
    "import numpy as np\n",
    "# import cugraph"
   ]
  },
  {
   "cell_type": "code",
   "execution_count": 2,
   "outputs": [],
   "source": [
    "maxInt = sys.maxsize\n",
    "while True:\n",
    "    # decrease the maxInt value by factor 10\n",
    "    # as long as the OverflowError occurs.\n",
    "    try:\n",
    "        csv.field_size_limit(maxInt)\n",
    "        break\n",
    "    except OverflowError:\n",
    "        maxInt = int(maxInt/10)"
   ],
   "metadata": {
    "collapsed": false
   }
  },
  {
   "cell_type": "code",
   "execution_count": 3,
   "outputs": [],
   "source": [
    "# Smart_contract,ID_token,Transaction_hash,Seller_address,Seller_username,Buyer_address,Buyer_username,Image_url_1,Image_url_2,Image_url_3,Image_url_4,Price_Crypto,Crypto,Price_USD,Name,Description,Collection,Market,Datetime_updated,Datetime_updated_seconds,Permanent_link,Unique_id_collection,Collection_cleaned,Category\n",
    "\n",
    "#Read Data from csv\n",
    "# filename = \"./data/Data_API.csv\"\n",
    "# with open(filename,'r', encoding='UTF-8') as f:\n",
    "#      reader = csv.reader(f)\n",
    "#      header = next(reader)\n",
    "#      seller_address_list = []\n",
    "#      buyer_address_list = []\n",
    "#      category_list=[]\n",
    "#      for row in reader:\n",
    "#          seller_address_list.append(row[3])\n",
    "#          buyer_address_list.append(row[5])\n",
    "#          category_list.append(row[23])\n",
    "# edge_list = list(zip(seller_address_list, buyer_address_list))"
   ],
   "metadata": {
    "collapsed": false
   }
  },
  {
   "cell_type": "code",
   "execution_count": 4,
   "outputs": [],
   "source": [
    "data_api_path=\"./data/Data_API_mapped.csv\"\n",
    "art_path=\"./data/Art_mapped.csv\"\n",
    "collectible_path=\"./data/Collectible_mapped.csv\"\n",
    "games_path=\"./data/Games_mapped.csv\"\n",
    "metaverse_path=\"./data/Metaverse_mapped.csv\"\n",
    "utility_path=\"./data/Utility_mapped.csv\"\n",
    "other_path=\"./data/Other_mapped.csv\""
   ],
   "metadata": {
    "collapsed": false
   }
  },
  {
   "cell_type": "code",
   "execution_count": 5,
   "outputs": [],
   "source": [
    "filepath = collectible_path\n",
    "with open(filepath, 'r', encoding='UTF-8') as f:\n",
    "     reader = csv.reader(f)\n",
    "     seller_address_list = []\n",
    "     buyer_address_list = []\n",
    "     for row in reader:\n",
    "         seller_address_list.append(row[0])\n",
    "         buyer_address_list.append(row[1])\n",
    "edge_list = list(zip(seller_address_list, buyer_address_list))"
   ],
   "metadata": {
    "collapsed": false
   }
  },
  {
   "cell_type": "code",
   "execution_count": 6,
   "outputs": [
    {
     "data": {
      "text/plain": "[0,\n 1,\n 2,\n 0,\n 0,\n 0,\n 0,\n 0,\n 0,\n 0,\n 0,\n 1,\n 2,\n 0,\n 0,\n 0,\n 1,\n 2,\n 3,\n 0,\n 0,\n 0,\n 0,\n 0,\n 0,\n 0,\n 0,\n 0,\n 0,\n 0,\n 0,\n 0,\n 0,\n 0,\n 0,\n 0,\n 0,\n 0,\n 0,\n 0,\n 1,\n 2,\n 3,\n 4,\n 5,\n 6,\n 7,\n 8,\n 9,\n 10,\n 11,\n 12,\n 13,\n 14,\n 15,\n 16,\n 17,\n 18,\n 19,\n 20,\n 21,\n 22,\n 23,\n 24,\n 25,\n 26,\n 27,\n 28,\n 29,\n 30,\n 31,\n 32,\n 33,\n 0,\n 34,\n 35,\n 36,\n 37,\n 38,\n 39,\n 40,\n 41,\n 42,\n 43,\n 44,\n 45,\n 46,\n 47,\n 48,\n 0,\n 49,\n 50,\n 1,\n 51,\n 0,\n 1,\n 2,\n 3,\n 4,\n 5,\n 6,\n 7,\n 8,\n 9,\n 10,\n 11,\n 12,\n 1,\n 13,\n 14,\n 15,\n 16,\n 17,\n 18,\n 19,\n 20,\n 21,\n 22,\n 2,\n 23,\n 24,\n 25,\n 3,\n 4,\n 5,\n 6,\n 7,\n 8,\n 52,\n 53,\n 54,\n 55,\n 56,\n 57,\n 58,\n 59,\n 60,\n 61,\n 62,\n 63,\n 64,\n 65,\n 0,\n 0,\n 1,\n 2,\n 3,\n 4,\n 0,\n 5,\n 6,\n 7,\n 8,\n 9,\n 10,\n 11,\n 0,\n 0,\n 0,\n 1,\n 0,\n 0,\n 0,\n 0,\n 1,\n 2,\n 0,\n 0,\n 0,\n 0,\n 0,\n 0,\n 0,\n 0,\n 0,\n 0,\n 0,\n 1,\n 0,\n 0,\n 0,\n 0,\n 0,\n 0,\n 0,\n 0,\n 0,\n 0,\n 0,\n 0,\n 0,\n 0,\n 0,\n 0,\n 0,\n 0,\n 0,\n 0,\n 0,\n 0,\n 0,\n 0,\n 0,\n 1,\n 0,\n 0,\n 0,\n 0,\n 1,\n 2,\n 0,\n 0,\n 2,\n 0,\n 0,\n 0,\n 0,\n 1,\n 0,\n 0,\n 0,\n 3,\n 4,\n 5,\n 6,\n 7,\n 8,\n 9,\n 0,\n 0,\n 0,\n 0,\n 0,\n 0,\n 0,\n 1,\n 1,\n 0,\n 10,\n 0,\n 0,\n 0,\n 0,\n 0,\n 0,\n 0,\n 0,\n 0,\n 0,\n 0,\n 0,\n 66,\n 67,\n 0,\n 0,\n 1,\n 68,\n 69,\n 0,\n 1,\n 1,\n 2,\n 0,\n 0,\n 0,\n 1,\n 0,\n 0,\n 3,\n 0,\n 0,\n 0,\n 0,\n 0,\n 0,\n 70,\n 0,\n 1,\n 2,\n 0,\n 0,\n 1,\n 0,\n 0,\n 1,\n 2,\n 3,\n 0,\n 2,\n 0,\n 3,\n 3,\n 4,\n 4,\n 1,\n 2,\n 3,\n 5,\n 0,\n 1,\n 2,\n 3,\n 4,\n 5,\n 6,\n 0,\n 1,\n 0,\n 4,\n 1,\n 0,\n 5,\n 0,\n 2,\n 0,\n 1,\n 0,\n 0,\n 0,\n 6,\n 0,\n 0,\n 0,\n 0,\n 0,\n 9,\n 1,\n 0,\n 0,\n 1,\n 2,\n 3,\n 0,\n 0,\n 0,\n 0,\n 0,\n 0,\n 1,\n 2,\n 0,\n 0,\n 0,\n 0,\n 0,\n 0,\n 0,\n 0,\n 0,\n 1,\n 2,\n 0,\n 1,\n 0,\n 3,\n 4,\n 0,\n 0,\n 0,\n 3,\n 4,\n 0,\n 0,\n 0,\n 0,\n 0,\n 1,\n 0,\n 1,\n 0,\n 1,\n 0,\n 0,\n 0,\n 0,\n 0,\n 2,\n 0,\n 71,\n 72,\n 73,\n 74,\n 75,\n 76,\n 77,\n 78,\n 79,\n 80,\n 81,\n 82,\n 83,\n 84,\n 0,\n 0,\n 0,\n 0,\n 0,\n 0,\n 0,\n 0,\n 0,\n 0,\n 1,\n 0,\n 0,\n 0,\n 0,\n 0,\n 0,\n 0,\n 1,\n 2,\n 3,\n 0,\n 0,\n 3,\n 0,\n 4,\n 0,\n 5,\n 6,\n 0,\n 1,\n 2,\n 3,\n 4,\n 0,\n 0,\n 0,\n 0,\n 0,\n 0,\n 0,\n 0,\n 0,\n 0,\n 0,\n 0,\n 0,\n 0,\n 0,\n 0,\n 0,\n 0,\n 0,\n 0,\n 1,\n 0,\n 0,\n 0,\n 0,\n 0,\n 0,\n 0,\n 1,\n 1,\n 0,\n 0,\n 0,\n 1,\n 0,\n 0,\n 2,\n 1,\n 0,\n 2,\n 3,\n 4,\n 3,\n 0,\n 1,\n 5,\n 6,\n 1,\n 7,\n 0,\n 0,\n 8,\n 9,\n 10,\n 11,\n 0,\n 0,\n 1,\n 0,\n 2,\n 3,\n 12,\n 13,\n 14,\n 0,\n 1,\n 1,\n 0,\n 4,\n 2,\n 4,\n 5,\n 0,\n 1,\n 2,\n 15,\n 3,\n 2,\n 0,\n 0,\n 2,\n 0,\n 16,\n 0,\n 0,\n 0,\n 0,\n 4,\n 3,\n 5,\n 6,\n 1,\n 0,\n 7,\n 0,\n 0,\n 6,\n 0,\n 0,\n 4,\n 0,\n 7,\n 0,\n 0,\n 1,\n 0,\n 0,\n 0,\n 1,\n 0,\n 1,\n 2,\n 3,\n 0,\n 0,\n 0,\n 1,\n 1,\n 0,\n 0,\n 0,\n 1,\n 0,\n 0,\n 0,\n 1,\n 2,\n 2,\n 0,\n 2,\n 3,\n 1,\n 0,\n 0,\n 0,\n 1,\n 0,\n 1,\n 0,\n 0,\n 1,\n 0,\n 2,\n 1,\n 2,\n 2,\n 3,\n 4,\n 1,\n 0,\n 0,\n 0,\n 3,\n 1,\n 5,\n 6,\n 1,\n 0,\n 0,\n 0,\n 0,\n 0,\n 0,\n 0,\n 0,\n 0,\n 0,\n 0,\n 2,\n 0,\n 1,\n 0,\n 0,\n 5,\n 6,\n 0,\n 0,\n 0,\n 0,\n 5,\n 6,\n 7,\n 8,\n 9,\n 10,\n 11,\n 12,\n 13,\n 14,\n 15,\n 16,\n 17,\n 18,\n 19,\n 20,\n 21,\n 0,\n 0,\n 0,\n 0,\n 0,\n 0,\n 0,\n 0,\n 0,\n 0,\n 0,\n 0,\n 0,\n 0,\n 0,\n 0,\n 1,\n 0,\n 2,\n 1,\n 0,\n 1,\n 1,\n 0,\n 2,\n 0,\n 1,\n 0,\n 2,\n 0,\n 3,\n 1,\n 1,\n 2,\n 3,\n 2,\n 3,\n 0,\n 0,\n 0,\n 2,\n 0,\n 0,\n 0,\n 0,\n 4,\n 3,\n 0,\n 0,\n 0,\n 1,\n 1,\n 2,\n 0,\n 3,\n 0,\n 2,\n 3,\n 1,\n 2,\n 3,\n 1,\n 3,\n 4,\n 5,\n 0,\n 1,\n 5,\n 6,\n 6,\n 1,\n 0,\n 2,\n 4,\n 3,\n 2,\n 0,\n 1,\n 2,\n 7,\n 4,\n 1,\n 1,\n 0,\n 2,\n 2,\n 3,\n 0,\n 1,\n 4,\n 1,\n 1,\n 2,\n 2,\n 2,\n 0,\n 0,\n 0,\n 0,\n 1,\n 0,\n 1,\n 2,\n 0,\n 0,\n 1,\n 3,\n 1,\n 2,\n 3,\n 4,\n 0,\n 0,\n 1,\n 5,\n 0,\n 6,\n 5,\n 6,\n 7,\n 8,\n 9,\n 7,\n 10,\n 11,\n 12,\n 2,\n 8,\n 9,\n 10,\n 11,\n 12,\n 13,\n 14,\n 13,\n 14,\n 15,\n 0,\n 1,\n 0,\n 2,\n 1,\n 15,\n 3,\n 16,\n 17,\n 18,\n 4,\n 5,\n 0,\n 6,\n 7,\n 8,\n 9,\n 10,\n 3,\n 11,\n 5,\n 0,\n 6,\n 12,\n 8,\n 13,\n 14,\n 15,\n 16,\n 17,\n 16,\n 0,\n 17,\n 18,\n 19,\n 1,\n 2,\n 20,\n 21,\n 22,\n 4,\n 5,\n 6,\n 0,\n 0,\n 23,\n 24,\n 25,\n 26,\n 27,\n 0,\n 0,\n 0,\n 0,\n 0,\n 0,\n 0,\n 0,\n 0,\n 0,\n 0,\n 0,\n 0,\n 0,\n 0,\n 0,\n 0,\n 1,\n 0,\n 2,\n 0,\n 0,\n 0,\n 0,\n 2,\n 3,\n 0,\n 3,\n 0,\n 0,\n 1,\n 1,\n 2,\n 7,\n 2,\n 4,\n 3,\n 0,\n 3,\n 0,\n 4,\n 4,\n 4,\n 7,\n 5,\n 0,\n 1,\n 5,\n 3,\n 0,\n 8,\n 0,\n 0,\n 1,\n 0,\n 0,\n 1,\n 0,\n 8,\n 2,\n 2,\n 0,\n 0,\n 9,\n 0,\n 0,\n 1,\n 3,\n 0,\n 0,\n 10,\n 4,\n 0,\n 4,\n 5,\n 6,\n 1,\n 3,\n 1,\n 8,\n 2,\n 1,\n 2,\n 1,\n 4,\n 7,\n 0,\n 0,\n 1,\n 4,\n 1,\n 5,\n 3,\n 4,\n 11,\n 0,\n 0,\n 3,\n 4,\n 0,\n 0,\n 1,\n 2,\n 1,\n 0,\n 3,\n 2,\n 5,\n 1,\n 1,\n 6,\n 1,\n 1,\n 2,\n 0,\n 5,\n 17,\n 0,\n 6,\n 1,\n 4,\n 0,\n 0,\n 2,\n 1,\n 6,\n 7,\n 1,\n 3,\n 1,\n 3,\n 5,\n 18,\n 0,\n 6,\n 5,\n 1,\n 0,\n 2,\n 0,\n 19,\n 0,\n 2,\n 5,\n 1,\n 1,\n 3,\n 4,\n 2,\n 7,\n 8,\n 0,\n 0,\n 3,\n 6,\n 1,\n 1,\n 0,\n 12,\n 5,\n 1,\n 0,\n 1,\n 9,\n 8,\n 0,\n 3,\n 2,\n 1,\n 1,\n 0,\n 0,\n 22,\n 0,\n 0,\n 0,\n 1,\n 2,\n 0,\n 0,\n 0,\n 0,\n 1,\n 0,\n 0,\n 0,\n 0,\n 0,\n 0,\n 0,\n 0,\n ...]"
     },
     "execution_count": 6,
     "metadata": {},
     "output_type": "execute_result"
    }
   ],
   "source": [
    "G = nx.MultiDiGraph()\n",
    "G.add_edges_from(edge_list)"
   ],
   "metadata": {
    "collapsed": false
   }
  },
  {
   "cell_type": "code",
   "execution_count": 7,
   "outputs": [
    {
     "name": "stdout",
     "output_type": "stream",
     "text": [
      "1. Number of nodes and edges:  92243    1587721\n"
     ]
    }
   ],
   "source": [
    "#1. Ouput the number of nodes and edges\n",
    "nodes = G.number_of_nodes()\n",
    "edges = G.number_of_edges()\n",
    "print(\"1. Number of nodes and edges: \",nodes,\"  \",edges)"
   ],
   "metadata": {
    "collapsed": false
   }
  },
  {
   "cell_type": "code",
   "execution_count": 8,
   "outputs": [
    {
     "name": "stdout",
     "output_type": "stream",
     "text": [
      "2. Average in-degree:  17.212373838665265\n",
      "3. Average out-degree:  17.212373838665265\n",
      "5. Average degree:  34.42474767733053\n"
     ]
    }
   ],
   "source": [
    "#2. Ouput the average in-degree and out-degree\n",
    "sum_of_in_degree=0\n",
    "in_degree_list=[]\n",
    "sum_of_out_degree=0\n",
    "out_degree_list=[]\n",
    "degree_list=[]\n",
    "for node in G.nodes:\n",
    "    temp_in=G.in_degree(node)\n",
    "    temp_out=G.out_degree(node)\n",
    "    sum_of_in_degree+=temp_in\n",
    "    sum_of_out_degree+=temp_out\n",
    "\n",
    "    in_degree_list.append(temp_in)\n",
    "    out_degree_list.append(temp_out)\n",
    "    degree_list.append(temp_in+temp_out)\n",
    "\n",
    "avg_out_degree=sum_of_out_degree/nodes\n",
    "avg_in_degree=sum_of_in_degree/nodes\n",
    "print(\"2. Average in-degree: \",avg_in_degree)\n",
    "print(\"3. Average out-degree: \",avg_out_degree)\n",
    "#3. Ouput the average degree(i.e., sum of in-degree and out-degree)\n",
    "avg_degree=(sum_of_in_degree+sum_of_out_degree)/nodes\n",
    "print(\"5. Average degree: \",avg_degree)"
   ],
   "metadata": {
    "collapsed": false
   }
  },
  {
   "cell_type": "code",
   "execution_count": 9,
   "outputs": [
    {
     "name": "stdout",
     "output_type": "stream",
     "text": [
      "0\n"
     ]
    },
    {
     "data": {
      "text/plain": "Text(0, 0.5, 'Count,P(K)*n')"
     },
     "execution_count": 9,
     "metadata": {},
     "output_type": "execute_result"
    },
    {
     "data": {
      "text/plain": "<Figure size 640x480 with 1 Axes>",
      "image/png": "[encoded data removed]"
     },
     "metadata": {},
     "output_type": "display_data"
    }
   ],
   "source": [
    "degree_counts = Counter(degree_list)\n",
    "degree_freq = [degree_counts.get(i,0) for i in range(max(degree_counts)+1)]\n",
    "degrees = range(len(degree_freq))\n",
    "\n",
    "#log-log\n",
    "print(degree_counts.get(0,0))\n",
    "plt.title(\"Degree Histograms(log)\")\n",
    "plt.loglog(degrees,degree_freq,'ro-')\n",
    "plt.xlabel('Degree,k')\n",
    "plt.ylabel('Count,P(K)*n')"
   ],
   "metadata": {
    "collapsed": false
   }
  },
  {
   "cell_type": "code",
   "execution_count": null,
   "outputs": [],
   "source": [
    "# compute distance\n",
    "dis_seq = []\n",
    "path_len = nx.all_pairs_shortest_path_length(G)\n",
    "\n",
    "for s, s2t in path_len:\n",
    "  dis_seq += list(s2t.values())\n",
    "# for i,node1 in enumerate(G.nodes):\n",
    "#     for node2 in G.nodes:\n",
    "#         if nx.has_path(G,node1,node2):\n",
    "#             dis=nx.shortest_path_length(G,node1,node2)\n",
    "#             dis_seq.append(dis)\n",
    "#     print(\"-----{} nodes----\".format(i))\n",
    "\n",
    "dis_counts = Counter(dis_seq)\n",
    "dis_freq = [dis_counts.get(d,0) for d in range(max(dis_counts)+1)]\n",
    "dis = range(len(dis_freq))\n",
    "\n",
    "#log-log\n",
    "plt.title(\"Path Distance(log)\")\n",
    "plt.loglog(dis,dis_freq,'ro-')\n",
    "plt.xlabel('distence (hops)')\n",
    "plt.ylabel('Number of paths')"
   ],
   "metadata": {
    "collapsed": false,
    "pycharm": {
     "is_executing": true
    }
   }
  },
  {
   "cell_type": "code",
   "execution_count": null,
   "outputs": [],
   "source": [
    "#Calculate average path\n",
    "avg_path=sum(dis_seq)/(len(dis_seq)-nodes)\n",
    "print(avg_path)"
   ],
   "metadata": {
    "collapsed": false
   }
  },
  {
   "cell_type": "code",
   "execution_count": null,
   "outputs": [],
   "source": [
    "G_weighted=nx.DiGraph()\n",
    "for u,v in G.edges():\n",
    "    if G_weighted.has_edge(u,v):\n",
    "        G_weighted[u][v]['weight'] += 1\n",
    "    else:\n",
    "        G_weighted.add_edge(u, v, weight=1)"
   ],
   "metadata": {
    "collapsed": false
   }
  },
  {
   "cell_type": "code",
   "execution_count": null,
   "outputs": [],
   "source": [
    "coef = nx.clustering(G_weighted)\n",
    "coef = np.array(list(coef.values()))\n",
    "\n",
    "degree_unique = np.unique(degree_list)\n",
    "coef_degree_list = []\n",
    "\n",
    "for d in np.unique(degree_unique):\n",
    "  mask_d = (degree_list == d)\n",
    "  coef_degree = coef[mask_d].mean()\n",
    "  coef_degree_list.append(coef_degree)"
   ],
   "metadata": {
    "collapsed": false
   }
  },
  {
   "cell_type": "code",
   "execution_count": null,
   "outputs": [],
   "source": [
    "#log-log\n",
    "plt.title(\"Average clustering coefficient versus degree(log)\")\n",
    "plt.loglog(degree_unique,coef_degree_list,'ro-')\n",
    "plt.xlabel('k (degree)')\n",
    "plt.ylabel('Ck (Clustering coefficient)')"
   ],
   "metadata": {
    "collapsed": false
   }
  },
  {
   "cell_type": "code",
   "execution_count": null,
   "outputs": [],
   "source": [
    "G_undirected=G.to_undirected()\n",
    "component_list = list(nx.connected_components(G_undirected))\n",
    "component_size_list = [len(_component) for _component in component_list]\n",
    "\n",
    "component_count = Counter(component_size_list)\n",
    "component_freq = [component_count.get(i,0) for i in range(max(component_count)+1)]\n",
    "component_size = range(len(component_freq))\n",
    "#log-log\n",
    "print(component_count.get(0,0))\n",
    "plt.title(\"Connected components versus size(log)\")\n",
    "plt.loglog(component_size ,component_freq,'ro-')\n",
    "plt.xlabel('connected component size')\n",
    "plt.ylabel('number of connected components')"
   ],
   "metadata": {
    "collapsed": false
   }
  },
  {
   "cell_type": "code",
   "execution_count": null,
   "outputs": [],
   "source": [
    "out_degree_centrality = nx.out_degree_centrality(G)\n",
    "in_degree_centrality = nx.in_degree_centrality(G)\n",
    "\n",
    "print(\"Out-degree centrality:\", out_degree_centrality)\n",
    "print(\"In-degree centrality:\", in_degree_centrality)"
   ],
   "metadata": {
    "collapsed": false
   }
  },
  {
   "cell_type": "code",
   "execution_count": null,
   "outputs": [],
   "source": [
    "betweenness_centrality = nx.betweenness_centrality(G)\n",
    "print(\"Betweenness centrality:\", betweenness_centrality)"
   ],
   "metadata": {
    "collapsed": false
   }
  },
  {
   "cell_type": "code",
   "execution_count": null,
   "outputs": [],
   "source": [
    "constraint_centrality = nx.constraint(G)\n",
    "print(\"Constraint centrality:\", constraint_centrality)"
   ],
   "metadata": {
    "collapsed": false
   }
  },
  {
   "cell_type": "code",
   "execution_count": null,
   "outputs": [],
   "source": [
    "nx_close_centrality = nx.closeness_centrality(G)\n",
    "print('closeness centrality:', nx_close_centrality)"
   ],
   "metadata": {
    "collapsed": false
   }
  },
  {
   "cell_type": "code",
   "execution_count": null,
   "outputs": [],
   "source": [
    "nx_eigen_centrality = nx.eigenvector_centrality(G_weighted,max_iter=10000).values()\n",
    "print('eigenvector centrality:', nx_eigen_centrality)"
   ],
   "metadata": {
    "collapsed": false
   }
  }
 ],
 "metadata": {
  "kernelspec": {
   "display_name": "Python 3",
   "language": "python",
   "name": "python3"
  },
  "language_info": {
   "codemirror_mode": {
    "name": "ipython",
    "version": 2
   },
   "file_extension": ".py",
   "mimetype": "text/x-python",
   "name": "python",
   "nbconvert_exporter": "python",
   "pygments_lexer": "ipython2",
   "version": "2.7.6"
  }
 },
 "nbformat": 4,
 "nbformat_minor": 0
}
