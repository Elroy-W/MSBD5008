{
 "cells": [
  {
   "cell_type": "code",
   "execution_count": null,
   "outputs": [],
   "source": [
    "import csv\n",
    "import cudf, cuml\n",
    "import pandas as pd, numpy as np\n",
    "from sklearn.model_selection import train_test_split, KFold\n",
    "from cuml.neighbors import KNeighborsClassifier, NearestNeighbors\n",
    "import matplotlib.pyplot as plt\n",
    "print('cuML version',cuml.__version__)"
   ],
   "metadata": {
    "collapsed": false,
    "ExecuteTime": {
     "start_time": "2023-04-22T19:43:44.339859Z",
     "end_time": "2023-04-22T19:43:46.642718Z"
    }
   }
  },
  {
   "cell_type": "code",
   "execution_count": null,
   "outputs": [],
   "source": [
    "#Load Data\n",
    "edge_list=[]\n",
    "paths={\n",
    "    \"Data API\":\"./data/Data_API_mapped.csv\",\n",
    "    \"Art\":\"./data/Art_mapped.csv\",\n",
    "    \"Collectible\":\"./data/Collectible_mapped.csv\",\n",
    "    \"Games\":\"./data/Games_mapped.csv\",\n",
    "    \"Metaverse\":\"./data/Metaverse_mapped.csv\",\n",
    "    \"Utility\":\"./data/Utility_mapped.csv\",\n",
    "    \"Other\":\"./data/Other_mapped.csv\"\n",
    "    }\n",
    "# for i,key in enumerate(paths):\n",
    "#     filepath = paths[key]\n",
    "#     with open(filepath, 'r', encoding='UTF-8') as f:\n",
    "#         reader = csv.reader(f)\n",
    "#         seller_address_list = []\n",
    "#         buyer_address_list = []\n",
    "#         for row in reader:\n",
    "#             seller_address_list.append(row[0])\n",
    "#             buyer_address_list.append(row[1])\n",
    "#     edge_list.append(list(zip(seller_address_list, buyer_address_list)))\n",
    "#     print(\"List {}: {}\".format(i,key))"
   ],
   "metadata": {
    "collapsed": false,
    "ExecuteTime": {
     "start_time": "2023-04-22T19:45:07.098743Z",
     "end_time": "2023-04-22T19:45:07.147367Z"
    }
   }
  },
  {
   "cell_type": "code",
   "execution_count": null,
   "outputs": [],
   "source": [
    "labels=['Art','Collectible','Games','Metaverse','Utility','Other']"
   ],
   "metadata": {
    "collapsed": false,
    "ExecuteTime": {
     "start_time": "2023-04-22T22:38:34.937091Z",
     "end_time": "2023-04-22T22:38:34.950103Z"
    }
   }
  },
  {
   "cell_type": "code",
   "execution_count": null,
   "outputs": [],
   "source": [
    "# LOAD TRAINING DATA\n",
    "train = cudf.read_csv(paths['Data API'])\n",
    "print('train shape =', train.shape)\n",
    "train.head()"
   ],
   "metadata": {
    "collapsed": false,
    "ExecuteTime": {
     "start_time": "2023-04-22T19:55:19.571707Z",
     "end_time": "2023-04-22T19:55:29.676011Z"
    }
   }
  },
  {
   "cell_type": "code",
   "execution_count": null,
   "outputs": [],
   "source": [
    "from sklearn import preprocessing\n",
    "X=train.iloc[:,0:2]\n",
    "y=train.iloc[:,7]\n",
    "le = preprocessing.LabelEncoder()\n",
    "le.fit(labels)\n",
    "y_trans=le.transform(y.to_numpy())\n",
    "# CREATE 20% VALIDATION SET\n",
    "X_train, X_test, y_train, y_test = train_test_split(X,y_trans,test_size=0.2, random_state=42)"
   ],
   "metadata": {
    "collapsed": false,
    "ExecuteTime": {
     "start_time": "2023-04-22T21:45:43.253734Z",
     "end_time": "2023-04-22T21:45:44.738331Z"
    }
   }
  },
  {
   "cell_type": "code",
   "execution_count": null,
   "outputs": [],
   "source": [
    "# GRID SEARCH FOR OPTIMAL K\n",
    "accs = []\n",
    "for k in range(3,20):\n",
    "    knn = KNeighborsClassifier(n_neighbors=k)\n",
    "    knn.fit(X_train, y_train)\n",
    "    # Better to use knn.predict() but cuML v0.11.0 has bug\n",
    "    # y_hat = knn.predict(X_test)\n",
    "    y_hat_p = knn.predict(X_test)\n",
    "    acc = (y_hat_p.to_pandas().values==y_test).sum()/y_test.shape[0]\n",
    "    print(\"Finished for k={},acc={}\".format(k,acc))\n",
    "    accs.append(acc)"
   ],
   "metadata": {
    "collapsed": false,
    "ExecuteTime": {
     "start_time": "2023-04-22T21:45:45.914337Z",
     "end_time": "2023-04-22T21:46:14.158270Z"
    }
   }
  },
  {
   "cell_type": "code",
   "execution_count": null,
   "outputs": [],
   "source": [
    "# PLOT GRID SEARCH RESULTS\n",
    "plt.figure(figsize=(15,5))\n",
    "plt.plot(range(3,20),accs)\n",
    "plt.title('kNN k value versus validation acc')\n",
    "plt.show()"
   ],
   "metadata": {
    "collapsed": false,
    "ExecuteTime": {
     "start_time": "2023-04-22T21:46:14.200013Z",
     "end_time": "2023-04-22T21:46:14.246540Z"
    }
   }
  },
  {
   "cell_type": "code",
   "execution_count": null,
   "outputs": [],
   "source": [
    "#Plot KNN with related high accuracy\n",
    "clf = KNeighborsClassifier(n_neighbors=6)\n",
    "knn.fit(X_train, y_train)\n",
    "y_hat_p = knn.predict(X_test)"
   ],
   "metadata": {
    "collapsed": false,
    "ExecuteTime": {
     "start_time": "2023-04-22T22:47:05.062361Z",
     "end_time": "2023-04-22T22:47:07.542442Z"
    }
   }
  },
  {
   "cell_type": "code",
   "execution_count": null,
   "outputs": [],
   "source": [
    "\n"
   ],
   "metadata": {
    "collapsed": false
   }
  },
  {
   "cell_type": "code",
   "execution_count": null,
   "outputs": [],
   "source": [
    "import cupy as cp\n",
    "colors=['red','blue','yellow','green','purple','orange']\n",
    "# Plotting decision region\n",
    "data = cp.array(X_test.to_numpy())\n",
    "y_hat_p=cp.array(y_hat_p.to_numpy())\n",
    "data=cp.hstack((data, cp.reshape(y_hat_p, (-1, 1))))\n",
    "data_by_label = {label: cp.array([]) for label in [0,1,2,3,4,5]}\n",
    "for label in [0,1,2,3,4,5]:\n",
    "    data_by_label[label] = data[data[:, 2] == label][:, :2]\n",
    "# 绘制散点图\n",
    "for label, color in zip([0,1,2,3,4,5], colors):\n",
    "    plt.scatter(data_by_label[label][:, 0].get(), data_by_label[label][:, 1].get(), c=color, label=label)\n",
    "plt.xlabel(\"Seller\")\n",
    "plt.ylabel(\"Buyer\")\n",
    "plt.title(\"KNN\")\n",
    "plt.show()"
   ],
   "metadata": {
    "collapsed": false,
    "ExecuteTime": {
     "start_time": "2023-04-22T22:52:17.754345Z",
     "end_time": "2023-04-22T22:52:18.949689Z"
    }
   }
  },
  {
   "cell_type": "code",
   "execution_count": 119,
   "outputs": [
    {
     "data": {
      "text/plain": "KMeans()"
     },
     "execution_count": 119,
     "metadata": {},
     "output_type": "execute_result"
    }
   ],
   "source": [
    "from cuml.cluster import KMeans as KMeans\n",
    "\n",
    "kmeans = KMeans(n_clusters=6, max_iter=300, init='scalable-k-means++')\n",
    "X_float=X.astype(float)\n",
    "kmeans.fit(X_float)"
   ],
   "metadata": {
    "collapsed": false,
    "ExecuteTime": {
     "start_time": "2023-04-22T22:54:18.641886Z",
     "end_time": "2023-04-22T22:54:19.668584Z"
    }
   }
  },
  {
   "cell_type": "code",
   "execution_count": 121,
   "outputs": [
    {
     "name": "stdout",
     "output_type": "stream",
     "text": [
      "              0       1  predicted\n",
      "0             0       2          4\n",
      "1             0       1          4\n",
      "2             0       2          4\n",
      "3             0       2          4\n",
      "4             0       2          4\n",
      "...         ...     ...        ...\n",
      "6071021  532943  396358          0\n",
      "6071022  462298  532944          0\n",
      "6071023  462068   72178          5\n",
      "6071024  522370   68652          5\n",
      "6071025  522370   68652          5\n",
      "\n",
      "[6071026 rows x 3 columns]\n"
     ]
    }
   ],
   "source": [
    "results_df = X.copy()\n",
    "results_df['predicted'] = kmeans.labels_\n",
    "print(results_df)"
   ],
   "metadata": {
    "collapsed": false,
    "ExecuteTime": {
     "start_time": "2023-04-22T22:54:24.473240Z",
     "end_time": "2023-04-22T22:54:24.547884Z"
    }
   }
  },
  {
   "cell_type": "code",
   "execution_count": 123,
   "outputs": [
    {
     "data": {
      "text/plain": "<Figure size 640x480 with 1 Axes>",
      "image/png": "[encoded data removed]"
     },
     "metadata": {},
     "output_type": "display_data"
    }
   ],
   "source": [
    "import cupy as cp\n",
    "colors=['red','blue','yellow','green','purple','orange']\n",
    "# Plotting decision region\n",
    "data = cp.array(results_df.to_numpy())\n",
    "\n",
    "data_by_label = {label: cp.array([]) for label in [0,1,2,3,4,5]}\n",
    "for label in [0,1,2,3,4,5]:\n",
    "    data_by_label[label] = data[data[:, 2] == label][:, :2]\n",
    "# 绘制散点图\n",
    "for label, color in zip([0,1,2,3,4,5], colors):\n",
    "    plt.scatter(data_by_label[label][:, 0].get(), data_by_label[label][:, 1].get(), c=color, label=label)\n",
    "plt.xlabel(\"Seller\")\n",
    "plt.ylabel(\"Buyer\")\n",
    "plt.title(\"KMeans\")\n",
    "plt.show()"
   ],
   "metadata": {
    "collapsed": false,
    "ExecuteTime": {
     "start_time": "2023-04-22T22:54:46.468877Z",
     "end_time": "2023-04-22T22:54:50.533173Z"
    }
   }
  }
 ],
 "metadata": {
  "kernelspec": {
   "display_name": "Python 3",
   "language": "python",
   "name": "python3"
  },
  "language_info": {
   "codemirror_mode": {
    "name": "ipython",
    "version": 2
   },
   "file_extension": ".py",
   "mimetype": "text/x-python",
   "name": "python",
   "nbconvert_exporter": "python",
   "pygments_lexer": "ipython2",
   "version": "2.7.6"
  }
 },
 "nbformat": 4,
 "nbformat_minor": 0
}
