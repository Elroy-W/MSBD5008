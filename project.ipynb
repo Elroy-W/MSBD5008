{
 "cells": [
  {
   "cell_type": "code",
   "execution_count": 1,
   "metadata": {
    "collapsed": true
   },
   "outputs": [],
   "source": [
    "import networkx as nx\n",
    "import matplotlib.pyplot as plt\n",
    "from collections import Counter\n",
    "import csv\n",
    "import sys\n",
    "import numpy as np\n",
    "# import cugraph"
   ]
  },
  {
   "cell_type": "code",
   "execution_count": 2,
   "outputs": [],
   "source": [
    "maxInt = sys.maxsize\n",
    "while True:\n",
    "    # decrease the maxInt value by factor 10\n",
    "    # as long as the OverflowError occurs.\n",
    "    try:\n",
    "        csv.field_size_limit(maxInt)\n",
    "        break\n",
    "    except OverflowError:\n",
    "        maxInt = int(maxInt/10)"
   ],
   "metadata": {
    "collapsed": false
   }
  },
  {
   "cell_type": "code",
   "execution_count": 3,
   "outputs": [],
   "source": [
    "# Smart_contract,ID_token,Transaction_hash,Seller_address,Seller_username,Buyer_address,Buyer_username,Image_url_1,Image_url_2,Image_url_3,Image_url_4,Price_Crypto,Crypto,Price_USD,Name,Description,Collection,Market,Datetime_updated,Datetime_updated_seconds,Permanent_link,Unique_id_collection,Collection_cleaned,Category\n",
    "\n",
    "#Read Data from csv\n",
    "filename = \"./data/Data_API.csv\"\n",
    "with open(filename,'r', encoding='UTF-8') as f:\n",
    "     reader = csv.reader(f)\n",
    "     header = next(reader)\n",
    "     seller_address_list = []\n",
    "     buyer_address_list = []\n",
    "     category_list=[]\n",
    "     for row in reader:\n",
    "         seller_address_list.append(row[3])\n",
    "         buyer_address_list.append(row[5])\n",
    "         category_list.append(row[23])\n",
    "edge_list = list(zip(seller_address_list, buyer_address_list))"
   ],
   "metadata": {
    "collapsed": false
   }
  },
  {
   "cell_type": "code",
   "execution_count": 4,
   "outputs": [
    {
     "data": {
      "text/plain": "[0,\n 0,\n 1,\n 1,\n 2,\n 3,\n 4,\n 5,\n 0,\n 2,\n 1,\n 2,\n 3,\n 3,\n 4,\n 5,\n 0,\n 1,\n 2,\n 3,\n 4,\n 0,\n 1,\n 2,\n 3,\n 4,\n 5,\n 6,\n 7,\n 0,\n 8,\n 6,\n 7,\n 0,\n 5,\n 0,\n 0,\n 9,\n 10,\n 11,\n 12,\n 13,\n 1,\n 0,\n 8,\n 0,\n 9,\n 10,\n 14,\n 15,\n 11,\n 16,\n 17,\n 12,\n 18,\n 19,\n 0,\n 20,\n 21,\n 22,\n 23,\n 24,\n 25,\n 26,\n 27,\n 28,\n 1,\n 29,\n 30,\n 13,\n 14,\n 15,\n 16,\n 0,\n 1,\n 2,\n 3,\n 31,\n 0,\n 32,\n 33,\n 34,\n 35,\n 36,\n 0,\n 37,\n 38,\n 0,\n 0,\n 4,\n 1,\n 1,\n 2,\n 3,\n 2,\n 3,\n 4,\n 4,\n 0,\n 1,\n 2,\n 3,\n 4,\n 5,\n 6,\n 7,\n 8,\n 39,\n 9,\n 10,\n 11,\n 12,\n 13,\n 14,\n 15,\n 16,\n 17,\n 18,\n 19,\n 20,\n 21,\n 0,\n 22,\n 1,\n 40,\n 41,\n 42,\n 2,\n 43,\n 44,\n 0,\n 45,\n 46,\n 47,\n 48,\n 49,\n 50,\n 0,\n 51,\n 52,\n 53,\n 54,\n 55,\n 56,\n 57,\n 0,\n 58,\n 59,\n 0,\n 0,\n 60,\n 1,\n 2,\n 3,\n 61,\n 5,\n 62,\n 63,\n 64,\n 0,\n 1,\n 0,\n 4,\n 65,\n 66,\n 1,\n 0,\n 2,\n 3,\n 1,\n 67,\n 0,\n 68,\n 0,\n 1,\n 69,\n 70,\n 71,\n 2,\n 72,\n 73,\n 74,\n 75,\n 76,\n 17,\n 77,\n 78,\n 79,\n 18,\n 19,\n 80,\n 81,\n 82,\n 0,\n 20,\n 21,\n 83,\n 84,\n 85,\n 86,\n 22,\n 0,\n 1,\n 2,\n 87,\n 88,\n 3,\n 4,\n 5,\n 6,\n 0,\n 1,\n 89,\n 0,\n 1,\n 90,\n 0,\n 91,\n 0,\n 1,\n 2,\n 0,\n 3,\n 4,\n 1,\n 7,\n 8,\n 92,\n 9,\n 10,\n 3,\n 0,\n 1,\n 0,\n 6,\n 2,\n 3,\n 7,\n 93,\n 94,\n 95,\n 96,\n 11,\n 5,\n 12,\n 2,\n 13,\n 6,\n 97,\n 0,\n 14,\n 2,\n 15,\n 16,\n 7,\n 98,\n 99,\n 100,\n 0,\n 1,\n 2,\n 4,\n 4,\n 3,\n 4,\n 5,\n 6,\n 7,\n 8,\n 9,\n 5,\n 0,\n 1,\n 2,\n 3,\n 101,\n 102,\n 17,\n 18,\n 10,\n 11,\n 0,\n 12,\n 1,\n 103,\n 104,\n 105,\n 106,\n 0,\n 0,\n 1,\n 2,\n 1,\n 107,\n 2,\n 3,\n 3,\n 108,\n 109,\n 4,\n 4,\n 0,\n 5,\n 110,\n 6,\n 1,\n 2,\n 7,\n 8,\n 9,\n 111,\n 10,\n 11,\n 112,\n 12,\n 13,\n 113,\n 14,\n 15,\n 114,\n 16,\n 23,\n 24,\n 13,\n 115,\n 17,\n 25,\n 18,\n 116,\n 117,\n 0,\n 14,\n 118,\n 119,\n 120,\n 15,\n 0,\n 19,\n 20,\n 21,\n 121,\n 122,\n 123,\n 124,\n 1,\n 125,\n 1,\n 8,\n 126,\n 127,\n 9,\n 2,\n 0,\n 1,\n 2,\n 16,\n 3,\n 4,\n 5,\n 6,\n 22,\n 17,\n 7,\n 2,\n 18,\n 23,\n 0,\n 24,\n 25,\n 5,\n 6,\n 7,\n 8,\n 128,\n 26,\n 27,\n 28,\n 129,\n 29,\n 8,\n 130,\n 26,\n 19,\n 27,\n 28,\n 29,\n 30,\n 30,\n 31,\n 0,\n 131,\n 1,\n 32,\n 33,\n 31,\n 132,\n 32,\n 33,\n 34,\n 34,\n 20,\n 133,\n 134,\n 135,\n 136,\n 137,\n 2,\n 35,\n 3,\n 10,\n 4,\n 0,\n 35,\n 36,\n 138,\n 37,\n 5,\n 38,\n 11,\n 1,\n 1,\n 6,\n 1,\n 139,\n 39,\n 40,\n 140,\n 41,\n 42,\n 21,\n 43,\n 44,\n 45,\n 46,\n 47,\n 48,\n 141,\n 49,\n 50,\n 51,\n 52,\n 12,\n 1,\n 53,\n 54,\n 55,\n 56,\n 2,\n 57,\n 142,\n 58,\n 59,\n 60,\n 61,\n 62,\n 2,\n 13,\n 143,\n 144,\n 7,\n 14,\n 22,\n 23,\n 8,\n 145,\n 146,\n 9,\n 147,\n 148,\n 149,\n 0,\n 1,\n 0,\n 2,\n 0,\n 150,\n 10,\n 63,\n 64,\n 0,\n 0,\n 1,\n 2,\n 3,\n 11,\n 151,\n 152,\n 3,\n 153,\n 0,\n 12,\n 13,\n 65,\n 154,\n 66,\n 1,\n 0,\n 67,\n 2,\n 68,\n 3,\n 155,\n 69,\n 2,\n 70,\n 4,\n 71,\n 5,\n 156,\n 72,\n 1,\n 6,\n 157,\n 73,\n 74,\n 7,\n 3,\n 158,\n 75,\n 76,\n 0,\n 77,\n 1,\n 8,\n 78,\n 159,\n 9,\n 160,\n 10,\n 11,\n 2,\n 79,\n 80,\n 2,\n 81,\n 82,\n 3,\n 161,\n 4,\n 12,\n 5,\n 4,\n 0,\n 6,\n 13,\n 162,\n 2,\n 5,\n 163,\n 1,\n 164,\n 165,\n 0,\n 24,\n 166,\n 0,\n 167,\n 0,\n 168,\n 14,\n 169,\n 15,\n 170,\n 16,\n 1,\n 1,\n 17,\n 6,\n 0,\n 18,\n 19,\n 0,\n 20,\n 2,\n 21,\n 3,\n 22,\n 23,\n 0,\n 4,\n 5,\n 24,\n 83,\n 84,\n 85,\n 25,\n 26,\n 27,\n 28,\n 86,\n 87,\n 29,\n 0,\n 88,\n 30,\n 89,\n 171,\n 31,\n 90,\n 32,\n 172,\n 173,\n 33,\n 34,\n 35,\n 91,\n 92,\n 174,\n 175,\n 36,\n 93,\n 94,\n 95,\n 37,\n 176,\n 38,\n 96,\n 177,\n 39,\n 97,\n 40,\n 7,\n 178,\n 41,\n 42,\n 2,\n 179,\n 180,\n 43,\n 44,\n 0,\n 181,\n 182,\n 45,\n 0,\n 183,\n 46,\n 47,\n 0,\n 1,\n 2,\n 184,\n 185,\n 48,\n 49,\n 2,\n 50,\n 186,\n 51,\n 187,\n 3,\n 0,\n 52,\n 53,\n 54,\n 188,\n 0,\n 0,\n 189,\n 8,\n 55,\n 56,\n 57,\n 190,\n 58,\n 59,\n 191,\n 60,\n 192,\n 193,\n 61,\n 62,\n 63,\n 1,\n 64,\n 65,\n 194,\n 66,\n 25,\n 9,\n 1,\n 10,\n 195,\n 196,\n 0,\n 197,\n 67,\n 68,\n 198,\n 69,\n 70,\n 71,\n 72,\n 73,\n 74,\n 1,\n 199,\n 75,\n 200,\n 5,\n 76,\n 201,\n 77,\n 2,\n 36,\n 78,\n 79,\n 2,\n 202,\n 6,\n 80,\n 37,\n 38,\n 81,\n 203,\n 0,\n 82,\n 83,\n 0,\n 39,\n 84,\n 0,\n 0,\n 85,\n 86,\n 204,\n 205,\n 206,\n 7,\n 8,\n 207,\n 208,\n 9,\n 0,\n 209,\n 1,\n 98,\n 210,\n 0,\n 10,\n 211,\n 99,\n 100,\n 101,\n 0,\n 0,\n 212,\n 102,\n 213,\n 1,\n 0,\n 103,\n 1,\n 11,\n 11,\n 2,\n 12,\n 12,\n 1,\n 13,\n 14,\n 13,\n 3,\n 14,\n 15,\n 16,\n 17,\n 18,\n 19,\n 1,\n 214,\n 20,\n 2,\n 21,\n 22,\n 215,\n 87,\n 3,\n 216,\n 217,\n 2,\n 23,\n 218,\n 15,\n 219,\n 1,\n 16,\n 220,\n 221,\n 4,\n 4,\n 222,\n 223,\n 0,\n 1,\n 0,\n 224,\n 104,\n 105,\n 225,\n 226,\n 106,\n 107,\n 108,\n 227,\n 228,\n 109,\n 110,\n 2,\n 111,\n 112,\n 0,\n 113,\n 3,\n 114,\n 229,\n 115,\n 1,\n 116,\n 230,\n 0,\n 231,\n 0,\n 232,\n 117,\n 1,\n 118,\n 0,\n 233,\n 4,\n 2,\n 3,\n 0,\n 0,\n 119,\n 2,\n 120,\n 1,\n 234,\n 1,\n 0,\n 235,\n 236,\n 5,\n 237,\n 238,\n 1,\n 0,\n 0,\n 1,\n 1,\n 239,\n 6,\n 240,\n 241,\n 242,\n 243,\n 2,\n 2,\n 244,\n 245,\n 3,\n 4,\n 5,\n 6,\n 7,\n 246,\n 8,\n 9,\n 10,\n 247,\n 248,\n 6,\n 249,\n 2,\n 250,\n 7,\n 251,\n 252,\n 253,\n 254,\n 0,\n 0,\n 255,\n 0,\n 2,\n 8,\n 121,\n 256,\n 3,\n 257,\n 1,\n 258,\n 2,\n 259,\n 260,\n 261,\n 262,\n 3,\n 5,\n 0,\n 263,\n 2,\n 9,\n 4,\n 264,\n 265,\n 122,\n 266,\n 0,\n 5,\n 267,\n 3,\n 1,\n 268,\n 4,\n 0,\n 1,\n 1,\n 123,\n 269,\n 0,\n 10,\n 1,\n 270,\n 271,\n 6,\n 2,\n 1,\n 272,\n 19,\n 3,\n 0,\n 11,\n 12,\n 1,\n 20,\n 273,\n 21,\n 2,\n 3,\n 4,\n 7,\n 5,\n 6,\n 7,\n 4,\n 8,\n 9,\n 10,\n 11,\n 12,\n 13,\n 14,\n 15,\n 22,\n 16,\n 274,\n 0,\n 1,\n 2,\n 275,\n 3,\n 4,\n 5,\n 6,\n 17,\n 276,\n 18,\n 19,\n 23,\n 277,\n 278,\n 5,\n 24,\n 7,\n 2,\n 0,\n 25,\n 20,\n 21,\n 26,\n 27,\n 22,\n 23,\n 24,\n 25,\n 26,\n 27,\n 28,\n 29,\n 30,\n 31,\n 0,\n 0,\n 0,\n 0,\n 0,\n 1,\n 2,\n ...]"
     },
     "execution_count": 4,
     "metadata": {},
     "output_type": "execute_result"
    }
   ],
   "source": [
    "G = nx.MultiDiGraph()\n",
    "G.add_edges_from(edge_list)"
   ],
   "metadata": {
    "collapsed": false
   }
  },
  {
   "cell_type": "code",
   "execution_count": 5,
   "outputs": [
    {
     "name": "stdout",
     "output_type": "stream",
     "text": [
      "1. Number of nodes and edges:  532945    6071027\n"
     ]
    }
   ],
   "source": [
    "#1. Ouput the number of nodes and edges\n",
    "nodes = G.number_of_nodes()\n",
    "edges = G.number_of_edges()\n",
    "print(\"1. Number of nodes and edges: \",nodes,\"  \",edges)"
   ],
   "metadata": {
    "collapsed": false
   }
  },
  {
   "cell_type": "code",
   "execution_count": 6,
   "outputs": [
    {
     "name": "stdout",
     "output_type": "stream",
     "text": [
      "2. Average in-degree:  11.391470039122236\n",
      "3. Average out-degree:  11.391470039122236\n",
      "5. Average degree:  22.782940078244472\n"
     ]
    }
   ],
   "source": [
    "#2. Ouput the average in-degree and out-degree\n",
    "sum_of_in_degree=0\n",
    "in_degree_list=[]\n",
    "sum_of_out_degree=0\n",
    "out_degree_list=[]\n",
    "degree_list=[]\n",
    "for node in G.nodes:\n",
    "    temp_in=G.in_degree(node)\n",
    "    temp_out=G.out_degree(node)\n",
    "    sum_of_in_degree+=temp_in\n",
    "    sum_of_out_degree+=temp_out\n",
    "\n",
    "    in_degree_list.append(temp_in)\n",
    "    out_degree_list.append(temp_out)\n",
    "    degree_list.append(temp_in+temp_out)\n",
    "\n",
    "avg_out_degree=sum_of_out_degree/nodes\n",
    "avg_in_degree=sum_of_in_degree/nodes\n",
    "print(\"2. Average in-degree: \",avg_in_degree)\n",
    "print(\"3. Average out-degree: \",avg_out_degree)\n",
    "#3. Ouput the average degree(i.e., sum of in-degree and out-degree)\n",
    "avg_degree=(sum_of_in_degree+sum_of_out_degree)/nodes\n",
    "print(\"5. Average degree: \",avg_degree)"
   ],
   "metadata": {
    "collapsed": false
   }
  },
  {
   "cell_type": "code",
   "execution_count": 7,
   "outputs": [
    {
     "name": "stdout",
     "output_type": "stream",
     "text": [
      "0\n"
     ]
    },
    {
     "data": {
      "text/plain": "Text(0, 0.5, 'Count,P(K)*n')"
     },
     "execution_count": 7,
     "metadata": {},
     "output_type": "execute_result"
    },
    {
     "data": {
      "text/plain": "<Figure size 640x480 with 1 Axes>",
      "image/png": "[encoded data removed]"
     },
     "metadata": {},
     "output_type": "display_data"
    }
   ],
   "source": [
    "degree_counts = Counter(degree_list)\n",
    "degree_freq = [degree_counts.get(i,0) for i in range(max(degree_counts)+1)]\n",
    "degrees = range(len(degree_freq))\n",
    "\n",
    "#log-log\n",
    "print(degree_counts.get(0,0))\n",
    "plt.title(\"Degree Histograms(log)\")\n",
    "plt.loglog(degrees,degree_freq,'ro-')\n",
    "plt.xlabel('Degree,k')\n",
    "plt.ylabel('Count,P(K)*n')"
   ],
   "metadata": {
    "collapsed": false
   }
  },
  {
   "cell_type": "code",
   "execution_count": 13,
   "outputs": [
    {
     "ename": "KeyboardInterrupt",
     "evalue": "",
     "output_type": "error",
     "traceback": [
      "\u001B[1;31m---------------------------------------------------------------------------\u001B[0m",
      "\u001B[1;31mKeyboardInterrupt\u001B[0m                         Traceback (most recent call last)",
      "Cell \u001B[1;32mIn[13], line 9\u001B[0m\n\u001B[0;32m      7\u001B[0m \u001B[38;5;28;01mfor\u001B[39;00m i,node1 \u001B[38;5;129;01min\u001B[39;00m \u001B[38;5;28menumerate\u001B[39m(G\u001B[38;5;241m.\u001B[39mnodes):\n\u001B[0;32m      8\u001B[0m     \u001B[38;5;28;01mfor\u001B[39;00m node2 \u001B[38;5;129;01min\u001B[39;00m G\u001B[38;5;241m.\u001B[39mnodes:\n\u001B[1;32m----> 9\u001B[0m         \u001B[38;5;28;01mif\u001B[39;00m \u001B[43mnx\u001B[49m\u001B[38;5;241;43m.\u001B[39;49m\u001B[43mhas_path\u001B[49m\u001B[43m(\u001B[49m\u001B[43mG\u001B[49m\u001B[43m,\u001B[49m\u001B[43mnode1\u001B[49m\u001B[43m,\u001B[49m\u001B[43mnode2\u001B[49m\u001B[43m)\u001B[49m:\n\u001B[0;32m     10\u001B[0m             dis\u001B[38;5;241m=\u001B[39mnx\u001B[38;5;241m.\u001B[39mshortest_path_length(G,node1,node2)\n\u001B[0;32m     11\u001B[0m             dis_seq\u001B[38;5;241m.\u001B[39mappend(dis)\n",
      "File \u001B[1;32m~\\.conda\\envs\\assignment1\\lib\\site-packages\\networkx\\algorithms\\shortest_paths\\generic.py:33\u001B[0m, in \u001B[0;36mhas_path\u001B[1;34m(G, source, target)\u001B[0m\n\u001B[0;32m     20\u001B[0m \u001B[38;5;250m\u001B[39m\u001B[38;5;124;03m\"\"\"Returns *True* if *G* has a path from *source* to *target*.\u001B[39;00m\n\u001B[0;32m     21\u001B[0m \n\u001B[0;32m     22\u001B[0m \u001B[38;5;124;03mParameters\u001B[39;00m\n\u001B[1;32m   (...)\u001B[0m\n\u001B[0;32m     30\u001B[0m \u001B[38;5;124;03m   Ending node for path\u001B[39;00m\n\u001B[0;32m     31\u001B[0m \u001B[38;5;124;03m\"\"\"\u001B[39;00m\n\u001B[0;32m     32\u001B[0m \u001B[38;5;28;01mtry\u001B[39;00m:\n\u001B[1;32m---> 33\u001B[0m     \u001B[43mnx\u001B[49m\u001B[38;5;241;43m.\u001B[39;49m\u001B[43mshortest_path\u001B[49m\u001B[43m(\u001B[49m\u001B[43mG\u001B[49m\u001B[43m,\u001B[49m\u001B[43m \u001B[49m\u001B[43msource\u001B[49m\u001B[43m,\u001B[49m\u001B[43m \u001B[49m\u001B[43mtarget\u001B[49m\u001B[43m)\u001B[49m\n\u001B[0;32m     34\u001B[0m \u001B[38;5;28;01mexcept\u001B[39;00m nx\u001B[38;5;241m.\u001B[39mNetworkXNoPath:\n\u001B[0;32m     35\u001B[0m     \u001B[38;5;28;01mreturn\u001B[39;00m \u001B[38;5;28;01mFalse\u001B[39;00m\n",
      "File \u001B[1;32m~\\.conda\\envs\\assignment1\\lib\\site-packages\\networkx\\algorithms\\shortest_paths\\generic.py:165\u001B[0m, in \u001B[0;36mshortest_path\u001B[1;34m(G, source, target, weight, method)\u001B[0m\n\u001B[0;32m    162\u001B[0m \u001B[38;5;28;01melse\u001B[39;00m:\n\u001B[0;32m    163\u001B[0m     \u001B[38;5;66;03m# Find shortest source-target path.\u001B[39;00m\n\u001B[0;32m    164\u001B[0m     \u001B[38;5;28;01mif\u001B[39;00m method \u001B[38;5;241m==\u001B[39m \u001B[38;5;124m\"\u001B[39m\u001B[38;5;124munweighted\u001B[39m\u001B[38;5;124m\"\u001B[39m:\n\u001B[1;32m--> 165\u001B[0m         paths \u001B[38;5;241m=\u001B[39m \u001B[43mnx\u001B[49m\u001B[38;5;241;43m.\u001B[39;49m\u001B[43mbidirectional_shortest_path\u001B[49m\u001B[43m(\u001B[49m\u001B[43mG\u001B[49m\u001B[43m,\u001B[49m\u001B[43m \u001B[49m\u001B[43msource\u001B[49m\u001B[43m,\u001B[49m\u001B[43m \u001B[49m\u001B[43mtarget\u001B[49m\u001B[43m)\u001B[49m\n\u001B[0;32m    166\u001B[0m     \u001B[38;5;28;01melif\u001B[39;00m method \u001B[38;5;241m==\u001B[39m \u001B[38;5;124m\"\u001B[39m\u001B[38;5;124mdijkstra\u001B[39m\u001B[38;5;124m\"\u001B[39m:\n\u001B[0;32m    167\u001B[0m         _, paths \u001B[38;5;241m=\u001B[39m nx\u001B[38;5;241m.\u001B[39mbidirectional_dijkstra(G, source, target, weight)\n",
      "File \u001B[1;32m~\\.conda\\envs\\assignment1\\lib\\site-packages\\networkx\\algorithms\\shortest_paths\\unweighted.py:224\u001B[0m, in \u001B[0;36mbidirectional_shortest_path\u001B[1;34m(G, source, target)\u001B[0m\n\u001B[0;32m    221\u001B[0m     \u001B[38;5;28;01mraise\u001B[39;00m nx\u001B[38;5;241m.\u001B[39mNodeNotFound(msg)\n\u001B[0;32m    223\u001B[0m \u001B[38;5;66;03m# call helper to do the real work\u001B[39;00m\n\u001B[1;32m--> 224\u001B[0m results \u001B[38;5;241m=\u001B[39m \u001B[43m_bidirectional_pred_succ\u001B[49m\u001B[43m(\u001B[49m\u001B[43mG\u001B[49m\u001B[43m,\u001B[49m\u001B[43m \u001B[49m\u001B[43msource\u001B[49m\u001B[43m,\u001B[49m\u001B[43m \u001B[49m\u001B[43mtarget\u001B[49m\u001B[43m)\u001B[49m\n\u001B[0;32m    225\u001B[0m pred, succ, w \u001B[38;5;241m=\u001B[39m results\n\u001B[0;32m    227\u001B[0m \u001B[38;5;66;03m# build path from pred+w+succ\u001B[39;00m\n",
      "File \u001B[1;32m~\\.conda\\envs\\assignment1\\lib\\site-packages\\networkx\\algorithms\\shortest_paths\\unweighted.py:279\u001B[0m, in \u001B[0;36m_bidirectional_pred_succ\u001B[1;34m(G, source, target)\u001B[0m\n\u001B[0;32m    277\u001B[0m                 forward_fringe\u001B[38;5;241m.\u001B[39mappend(w)\n\u001B[0;32m    278\u001B[0m                 pred[w] \u001B[38;5;241m=\u001B[39m v\n\u001B[1;32m--> 279\u001B[0m             \u001B[38;5;28;01mif\u001B[39;00m \u001B[43mw\u001B[49m\u001B[43m \u001B[49m\u001B[38;5;129;43;01min\u001B[39;49;00m\u001B[43m \u001B[49m\u001B[43msucc\u001B[49m:  \u001B[38;5;66;03m# path found\u001B[39;00m\n\u001B[0;32m    280\u001B[0m                 \u001B[38;5;28;01mreturn\u001B[39;00m pred, succ, w\n\u001B[0;32m    281\u001B[0m \u001B[38;5;28;01melse\u001B[39;00m:\n",
      "\u001B[1;31mKeyboardInterrupt\u001B[0m: "
     ]
    }
   ],
   "source": [
    "# compute distance\n",
    "dis_seq = []\n",
    "path_len = nx.all_pairs_shortest_path_length(G)\n",
    "\n",
    "for s, s2t in path_len:\n",
    "  dis_seq += list(s2t.values())\n",
    "# for i,node1 in enumerate(G.nodes):\n",
    "#     for node2 in G.nodes:\n",
    "#         if nx.has_path(G,node1,node2):\n",
    "#             dis=nx.shortest_path_length(G,node1,node2)\n",
    "#             dis_seq.append(dis)\n",
    "#     print(\"-----{} nodes----\".format(i))\n",
    "\n",
    "dis_counts = Counter(dis_seq)\n",
    "dis_freq = [dis_counts.get(d,0) for d in range(max(dis_counts)+1)]\n",
    "dis = range(len(dis_freq))\n",
    "\n",
    "#log-log\n",
    "plt.title(\"Path Distance(log)\")\n",
    "plt.loglog(dis,dis_freq,'ro-')\n",
    "plt.xlabel('distence (hops)')\n",
    "plt.ylabel('Number of paths')"
   ],
   "metadata": {
    "collapsed": false
   }
  },
  {
   "cell_type": "code",
   "execution_count": null,
   "outputs": [],
   "source": [
    "#Calculate average path\n",
    "avg_path=sum(dis_seq)/(len(dis_seq)-nodes)\n",
    "print(avg_path)"
   ],
   "metadata": {
    "collapsed": false
   }
  },
  {
   "cell_type": "code",
   "execution_count": null,
   "outputs": [],
   "source": [
    "coef = nx.clustering(G)\n",
    "coef = np.array(list(coef.values()))\n",
    "\n",
    "degree_unique = np.unique(degree_list)\n",
    "coef_degree_list = []\n",
    "\n",
    "for d in np.unique(degree_unique):\n",
    "  mask_d = (degree_list == d)\n",
    "  coef_degree = coef[mask_d].mean()\n",
    "  coef_degree_list.append(coef_degree)"
   ],
   "metadata": {
    "collapsed": false
   }
  },
  {
   "cell_type": "code",
   "execution_count": null,
   "outputs": [],
   "source": [
    "#log-log\n",
    "plt.title(\"Average clustering coefficient versus degree(log)\")\n",
    "plt.loglog(degree_unique,coef_degree_list,'ro-')\n",
    "plt.xlabel('k (degree)')\n",
    "plt.ylabel('Ck (Clustering coefficient)')"
   ],
   "metadata": {
    "collapsed": false
   }
  },
  {
   "cell_type": "code",
   "execution_count": null,
   "outputs": [],
   "source": [
    "component_list = list(nx.connected_components(G))\n",
    "component_size_list = [len(_component) for _component in component_list]\n",
    "\n",
    "component_count = Counter(component_size_list)\n",
    "component_freq = [component_count.get(i,0) for i in range(max(component_count)+1)]\n",
    "component_size = range(len(component_freq))\n",
    "#log-log\n",
    "print(component_count.get(0,0))\n",
    "plt.title(\"Connected components versus size(log)\")\n",
    "plt.loglog(component_size ,component_freq,'ro-')\n",
    "plt.xlabel('connected component size')\n",
    "plt.ylabel('number of connected components')"
   ],
   "metadata": {
    "collapsed": false
   }
  },
  {
   "cell_type": "code",
   "execution_count": null,
   "outputs": [],
   "source": [
    "out_degree_centrality = nx.out_degree_centrality(G)\n",
    "in_degree_centrality = nx.in_degree_centrality(G)\n",
    "betweenness_centrality = nx.betweenness_centrality(G)\n",
    "constraint_centrality = nx.constraint(G)\n",
    "\n",
    "print(\"Out-degree centrality:\", out_degree_centrality)\n",
    "print(\"In-degree centrality:\", in_degree_centrality)\n",
    "print(\"Betweenness centrality:\", betweenness_centrality)\n",
    "print(\"Constraint centrality:\", constraint_centrality)"
   ],
   "metadata": {
    "collapsed": false,
    "pycharm": {
     "is_executing": true
    }
   }
  }
 ],
 "metadata": {
  "kernelspec": {
   "display_name": "Python 3",
   "language": "python",
   "name": "python3"
  },
  "language_info": {
   "codemirror_mode": {
    "name": "ipython",
    "version": 2
   },
   "file_extension": ".py",
   "mimetype": "text/x-python",
   "name": "python",
   "nbconvert_exporter": "python",
   "pygments_lexer": "ipython2",
   "version": "2.7.6"
  }
 },
 "nbformat": 4,
 "nbformat_minor": 0
}
