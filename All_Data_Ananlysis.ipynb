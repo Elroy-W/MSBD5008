{
 "cells": [
  {
   "cell_type": "code",
   "execution_count": 1,
   "metadata": {
    "collapsed": true,
    "ExecuteTime": {
     "start_time": "2023-04-24T10:30:10.869803Z",
     "end_time": "2023-04-24T10:30:21.071066Z"
    }
   },
   "outputs": [],
   "source": [
    "import networkx as nx\n",
    "import matplotlib.pyplot as plt\n",
    "import csv\n",
    "import sys\n",
    "import numpy as np\n",
    "import cugraph as cg\n",
    "import cudf, cuml\n",
    "import pandas as pd\n",
    "import cupy as cp"
   ]
  },
  {
   "cell_type": "code",
   "execution_count": 2,
   "outputs": [],
   "source": [
    "labels=['Art','Collectible','Games','Metaverse','Utility','Other']\n",
    "path=\"./data/Data_API_mapped.csv\""
   ],
   "metadata": {
    "collapsed": false,
    "ExecuteTime": {
     "start_time": "2023-04-24T11:33:23.260827Z",
     "end_time": "2023-04-24T11:33:23.263829Z"
    }
   }
  },
  {
   "cell_type": "code",
   "execution_count": 8,
   "outputs": [
    {
     "name": "stdout",
     "output_type": "stream",
     "text": [
      "   Seller  Buyer\n",
      "0       0      2\n",
      "1       0      1\n",
      "2       0      2\n",
      "3       0      2\n",
      "4       0      2\n"
     ]
    }
   ],
   "source": [
    "df=cudf.read_csv(path)\n",
    "df=df.iloc[:,0:2]\n",
    "df.columns = [\"Seller\",\"Buyer\"]\n",
    "print(df.head())"
   ],
   "metadata": {
    "collapsed": false,
    "ExecuteTime": {
     "start_time": "2023-04-24T11:43:48.000422Z",
     "end_time": "2023-04-24T11:43:53.877989Z"
    }
   }
  },
  {
   "cell_type": "code",
   "execution_count": 9,
   "outputs": [
    {
     "name": "stdout",
     "output_type": "stream",
     "text": [
      "Number of nodes and edges:  532945    6073872\n"
     ]
    }
   ],
   "source": [
    "G = cg.MultiGraph()\n",
    "G.from_cudf_edgelist(df, source='Seller', destination='Buyer')\n",
    "#Ouput the number of nodes and edges\n",
    "nodes = G.number_of_nodes()\n",
    "edges = G.number_of_edges()\n",
    "print(\"Number of nodes and edges: \",nodes,\"  \",edges)"
   ],
   "metadata": {
    "collapsed": false,
    "ExecuteTime": {
     "start_time": "2023-04-24T11:44:31.286204Z",
     "end_time": "2023-04-24T11:44:31.782356Z"
    }
   }
  },
  {
   "cell_type": "code",
   "execution_count": null,
   "outputs": [],
   "source": [
    "sum_of_in_degree=0\n",
    "in_degree_list=[]\n",
    "sum_of_out_degree=0\n",
    "out_degree_list=[]\n",
    "degree_list=[]\n",
    "for i,node in enumerate(G.nodes().to_numpy()):\n",
    "    temp_in=G.in_degree(node).to_numpy()[0][1]\n",
    "    temp_out=G.out_degree(node).to_numpy()[0][1]\n",
    "    sum_of_in_degree+=temp_in\n",
    "    sum_of_out_degree+=temp_out\n",
    "\n",
    "    degree_list.append(temp_in+temp_out)\n",
    "    if i%1000==0:\n",
    "        print('----{} nodes----'.format(i))\n"
   ],
   "metadata": {
    "collapsed": false
   }
  },
  {
   "cell_type": "code",
   "execution_count": null,
   "outputs": [],
   "source": [
    "avg_in_degree=sum_of_in_degree/nodes\n",
    "avg_out_degree=sum_of_out_degree/nodes\n",
    "print(\"2. Average in-degree: \",avg_in_degree)\n",
    "print(\"3. Average out-degree: \",avg_out_degree)\n",
    "#3. Ouput the average degree(i.e., sum of in-degree and out-degree)\n",
    "avg_degree=(sum_of_in_degree+sum_of_out_degree)/nodes\n",
    "print(\"5. Average degree: \",avg_degree)"
   ],
   "metadata": {
    "collapsed": false
   }
  },
  {
   "cell_type": "code",
   "execution_count": null,
   "outputs": [],
   "source": [
    "from collections import Counter\n",
    "degrees, degree_freq = np.unique(degree_list, return_counts=True)\n",
    "#log-log\n",
    "plt.title(\"Degree Histograms \")\n",
    "plt.loglog(degrees.get(),degree_freq.get(),'ro-')\n",
    "plt.xlabel('Degree,k')\n",
    "plt.ylabel('Count,P(K)*n')"
   ],
   "metadata": {
    "collapsed": false
   }
  },
  {
   "cell_type": "code",
   "execution_count": null,
   "outputs": [],
   "source": [
    "# compute distance\n",
    "dis_seq = []\n",
    "for i, node in enumerate(G.nodes().to_numpy()):\n",
    "    path_len = cg.sssp(G, source=node)\n",
    "    dis_seq.extend(path_len['distance'].to_numpy())\n",
    "    if i % 1000 == 0:\n",
    "        print(\"-----{} node----\".format(i))\n",
    "dis, dis_freq = np.unique(dis_seq, return_counts=True)\n",
    "dis=dis[:-1]\n",
    "dis_freq=dis_freq[:-1]\n",
    "#log-log\n",
    "plt.title(\"Path Distance\")\n",
    "plt.loglog(dis, dis_freq, 'ro-')\n",
    "plt.xlabel('Distance (hops)')\n",
    "plt.ylabel('Number of paths')\n",
    "#Calculate average path\n",
    "dis_seq=np.array(dis_seq)\n",
    "dis_seq=dis_seq[dis_seq<10**10]\n",
    "avg_path = sum(dis_seq) / (len(dis_seq) - nodes)\n",
    "print(avg_path)"
   ],
   "metadata": {
    "collapsed": false,
    "pycharm": {
     "is_executing": true
    }
   }
  }
 ],
 "metadata": {
  "kernelspec": {
   "display_name": "Python 3",
   "language": "python",
   "name": "python3"
  },
  "language_info": {
   "codemirror_mode": {
    "name": "ipython",
    "version": 2
   },
   "file_extension": ".py",
   "mimetype": "text/x-python",
   "name": "python",
   "nbconvert_exporter": "python",
   "pygments_lexer": "ipython2",
   "version": "2.7.6"
  }
 },
 "nbformat": 4,
 "nbformat_minor": 0
}
